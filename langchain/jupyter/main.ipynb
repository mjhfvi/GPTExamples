{
  "cells": [
    {
      "cell_type": "code",
      "execution_count": 44,
      "metadata": {},
      "outputs": [],
      "source": [
        "from src.llm_project import loaders"
      ]
    },
    {
      "cell_type": "code",
      "execution_count": null,
      "metadata": {},
      "outputs": [],
      "source": [
        "from src.llm_project import vector_store"
      ]
    },
    {
      "cell_type": "code",
      "execution_count": null,
      "metadata": {},
      "outputs": [],
      "source": [
        "# from langchain_community.vectorstores import Chroma"
      ]
    },
    {
      "cell_type": "code",
      "execution_count": 45,
      "metadata": {},
      "outputs": [],
      "source": [
        "dataset_directory = \"datasets\"\n",
        "dataset_file = \"dataset\"\n",
        "\n",
        "CHROMA_HOST = \"172.22.54.208\"\n",
        "CHROMA_PORT = 8000\n",
        "CHROMA_COLLECTION_NAME = \"mjhfvi\""
      ]
    },
    {
      "cell_type": "code",
      "execution_count": 46,
      "metadata": {},
      "outputs": [],
      "source": [
        "LOADER_CONFIG = loaders.FileLoaders(path=dataset_directory, loader_cls=\"txt\", glob_pattern=\"txt\")"
      ]
    },
    {
      "cell_type": "code",
      "execution_count": 47,
      "metadata": {},
      "outputs": [
        {
          "name": "stderr",
          "output_type": "stream",
          "text": [
            "100%|\u2588\u2588\u2588\u2588\u2588\u2588\u2588\u2588\u2588\u2588| 1/1 [00:00<00:00, 266.71it/s]"
          ]
        },
        {
          "name": "stdout",
          "output_type": "stream",
          "text": [
            "\n",
            "Document Preview: Saab to build Cadill .....\n",
            " \n",
            "Finished loading txt files: Duration: 0:00:00.015844\n"
          ]
        },
        {
          "name": "stderr",
          "output_type": "stream",
          "text": [
            "\n"
          ]
        }
      ],
      "source": [
        "TEXT_DOCUMENTS = LOADER_CONFIG.load_files()"
      ]
    },
    {
      "cell_type": "code",
      "execution_count": 48,
      "metadata": {},
      "outputs": [],
      "source": [
        "from src.llm_project import embeddings"
      ]
    },
    {
      "cell_type": "code",
      "execution_count": 49,
      "metadata": {},
      "outputs": [
        {
          "ename": "NameError",
          "evalue": "name 'embeddings_string' is not defined",
          "output_type": "error",
          "traceback": [
            "\u001b[0;31m---------------------------------------------------------------------------\u001b[0m",
            "\u001b[0;31mNameError\u001b[0m                                 Traceback (most recent call last)",
            "Cell \u001b[0;32mIn[49], line 1\u001b[0m\n\u001b[0;32m----> 1\u001b[0m EMBEDDINGS_MODEL \u001b[38;5;241m=\u001b[39m \u001b[43membeddings_string\u001b[49m()\n",
            "\u001b[0;31mNameError\u001b[0m: name 'embeddings_string' is not defined"
          ]
        }
      ],
      "source": [
        "EMBEDDINGS_MODEL = embeddings.embeddings_string()"
      ]
    },
    {
      "cell_type": "code",
      "execution_count": 36,
      "metadata": {},
      "outputs": [],
      "source": [
        "from src.llm_project import splitters"
      ]
    },
    {
      "cell_type": "code",
      "execution_count": 37,
      "metadata": {},
      "outputs": [
        {
          "name": "stdout",
          "output_type": "stream",
          "text": [
            "\n",
            "Starting Split Documents Process ...\n",
            "Found Data in Document Loader, Continue Splitting Documents ...\n",
            "503 Documents Loaded ...\n",
            "\n",
            "Printing Preview 'loader':  Saab to build Cadill\n",
            "\n",
            "Something Went Wrong When Split Documents:  'str' object has no attribute 'page_content' \n",
            "Error in Definition:  src.llm_project.splitters \n",
            "Exiting ...\n"
          ]
        },
        {
          "ename": "NameError",
          "evalue": "name 'exit' is not defined",
          "output_type": "error",
          "traceback": [
            "\u001b[0;31m---------------------------------------------------------------------------\u001b[0m",
            "\u001b[0;31mAttributeError\u001b[0m                            Traceback (most recent call last)",
            "File \u001b[0;32m/mnt/c/repository/GPTExamples/langchain/src/llm_project/splitters.py:38\u001b[0m, in \u001b[0;36msplitting_documents\u001b[0;34m(loader)\u001b[0m\n\u001b[1;32m     37\u001b[0m \u001b[38;5;28mprint\u001b[39m(\u001b[38;5;124m\"\u001b[39m\u001b[38;5;130;01m\\n\u001b[39;00m\u001b[38;5;124mPrinting Preview \u001b[39m\u001b[38;5;124m'\u001b[39m\u001b[38;5;124mloader\u001b[39m\u001b[38;5;124m'\u001b[39m\u001b[38;5;124m: \u001b[39m\u001b[38;5;124m\"\u001b[39m, loader[:\u001b[38;5;241m20\u001b[39m])\n\u001b[0;32m---> 38\u001b[0m DOCUMENTS_TEXT \u001b[38;5;241m=\u001b[39m \u001b[43mTEXT_SPLITTER\u001b[49m\u001b[38;5;241;43m.\u001b[39;49m\u001b[43msplit_documents\u001b[49m\u001b[43m(\u001b[49m\u001b[43mLOADER\u001b[49m\u001b[43m[\u001b[49m\u001b[38;5;241;43m0\u001b[39;49m\u001b[43m]\u001b[49m\u001b[43m)\u001b[49m\n\u001b[1;32m     39\u001b[0m \u001b[38;5;66;03m# print(len(DOCUMENTS_TEXT), \"Number of Split Text Items. \")\u001b[39;00m\n\u001b[1;32m     40\u001b[0m \u001b[38;5;66;03m# print(\"\\nPrinting Preview 'DOCUMENTS_TEXT': \", DOCUMENTS_TEXT[:100])\u001b[39;00m\n\u001b[1;32m     41\u001b[0m \u001b[38;5;66;03m# EMBEDDINGS_MODEL = HuggingFaceEmbedding(model_name='all-MiniLM-L6-v2')\u001b[39;00m\n\u001b[0;32m   (...)\u001b[0m\n\u001b[1;32m     46\u001b[0m \u001b[38;5;66;03m# print(EMBEDDINGS[:5])\u001b[39;00m\n\u001b[1;32m     47\u001b[0m \u001b[38;5;66;03m# print(\"\\nPrint value 'EMBEDDINGS': \", EMBEDDINGS)\u001b[39;00m\n",
            "File \u001b[0;32m/mnt/c/repository/GPTExamples/.venv/lib/python3.12/site-packages/langchain_text_splitters/base.py:94\u001b[0m, in \u001b[0;36mTextSplitter.split_documents\u001b[0;34m(self, documents)\u001b[0m\n\u001b[1;32m     93\u001b[0m \u001b[38;5;28;01mfor\u001b[39;00m doc \u001b[38;5;129;01min\u001b[39;00m documents:\n\u001b[0;32m---> 94\u001b[0m     texts\u001b[38;5;241m.\u001b[39mappend(\u001b[43mdoc\u001b[49m\u001b[38;5;241;43m.\u001b[39;49m\u001b[43mpage_content\u001b[49m)\n\u001b[1;32m     95\u001b[0m     metadatas\u001b[38;5;241m.\u001b[39mappend(doc\u001b[38;5;241m.\u001b[39mmetadata)\n",
            "\u001b[0;31mAttributeError\u001b[0m: 'str' object has no attribute 'page_content'",
            "\nDuring handling of the above exception, another exception occurred:\n",
            "\u001b[0;31mNameError\u001b[0m                                 Traceback (most recent call last)",
            "Cell \u001b[0;32mIn[37], line 1\u001b[0m\n\u001b[0;32m----> 1\u001b[0m \u001b[43msplitters\u001b[49m\u001b[38;5;241;43m.\u001b[39;49m\u001b[43msplitting_documents\u001b[49m\u001b[43m(\u001b[49m\u001b[43mLOADER\u001b[49m\u001b[38;5;241;43m=\u001b[39;49m\u001b[43mTEXT_DOCUMENTS\u001b[49m\u001b[43m)\u001b[49m\n",
            "File \u001b[0;32m/mnt/c/repository/GPTExamples/langchain/src/llm_project/splitters.py:53\u001b[0m, in \u001b[0;36msplitting_documents\u001b[0;34m(loader)\u001b[0m\n\u001b[1;32m     51\u001b[0m \u001b[38;5;28;01mexcept\u001b[39;00m \u001b[38;5;167;01mException\u001b[39;00m \u001b[38;5;28;01mas\u001b[39;00m error:\n\u001b[1;32m     52\u001b[0m     \u001b[38;5;28mprint\u001b[39m(\u001b[38;5;124m\"\u001b[39m\u001b[38;5;130;01m\\n\u001b[39;00m\u001b[38;5;124mSomething Went Wrong When Split Documents: \u001b[39m\u001b[38;5;124m\"\u001b[39m, error, \u001b[38;5;124m\"\u001b[39m\u001b[38;5;130;01m\\n\u001b[39;00m\u001b[38;5;124mError in Definition: \u001b[39m\u001b[38;5;124m\"\u001b[39m, \u001b[38;5;18m__name__\u001b[39m, \u001b[38;5;124m\"\u001b[39m\u001b[38;5;130;01m\\n\u001b[39;00m\u001b[38;5;124mExiting ...\u001b[39m\u001b[38;5;124m\"\u001b[39m)\n\u001b[0;32m---> 53\u001b[0m     \u001b[43mexit\u001b[49m(\u001b[38;5;241m1\u001b[39m)\n",
            "\u001b[0;31mNameError\u001b[0m: name 'exit' is not defined"
          ]
        }
      ],
      "source": [
        "splitters.splitting_documents(loader=TEXT_DOCUMENTS)"
      ]
    },
    {
      "cell_type": "code",
      "execution_count": null,
      "metadata": {},
      "outputs": [],
      "source": [
        "EMBEDDINGS = embeddings.embeddings_string()"
      ]
    },
    {
      "cell_type": "code",
      "execution_count": null,
      "metadata": {},
      "outputs": [],
      "source": [
        "VECTORSTORE = vector_store.connect_local_chromadb(CHROMA_COLLECTION_NAME=CHROMA_COLLECTION_NAME, EMBEDDINGS=EMBEDDINGS)"
      ]
    }
  ],
  "metadata": {
    "kernelspec": {
      "display_name": ".venv",
      "language": "python",
      "name": "python3"
    },
    "language_info": {
      "codemirror_mode": {
        "name": "ipython",
        "version": 3
      },
      "file_extension": ".py",
      "mimetype": "text/x-python",
      "name": "python",
      "nbconvert_exporter": "python",
      "pygments_lexer": "ipython3",
      "version": "3.12.3"
    }
  },
  "nbformat": 4,
  "nbformat_minor": 2
}
