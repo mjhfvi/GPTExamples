{
  "cells": [
    {
      "cell_type": "markdown",
      "metadata": {},
      "source": [
        "Source: https://lintang-gilang01.medium.com/simple-rag-using-python-langchain-openai-dan-chroma-baf9a87a056e"
      ]
    },
    {
      "cell_type": "markdown",
      "metadata": {},
      "source": [
        "Install Libraries"
      ]
    },
    {
      "cell_type": "code",
      "execution_count": null,
      "metadata": {},
      "outputs": [],
      "source": [
        "%pip install langchain langchain-core langchain-community langchain-ollama langchain_anthropic langchain-chroma langchain-experimental langchain-text-splitters langgraph"
      ]
    },
    {
      "cell_type": "markdown",
      "metadata": {},
      "source": [
        "Import Libraries"
      ]
    },
    {
      "cell_type": "code",
      "execution_count": 2,
      "metadata": {},
      "outputs": [],
      "source": [
        "from langchain.text_splitter import RecursiveCharacterTextSplitter      # To split long text into smaller sections based on specific characters\n",
        "# from langchain.chat_models import ChatOpenAI    # To interact with OpenAI's large language models (LLMs) in a conversational manner\n",
        "from langchain.prompts import PromptTemplate    # To create prompt templates\n",
        "from langchain.chains import RetrievalQA    # To combine the Retriever with the QA chain\n",
        "from langchain_chroma import Chroma     # Import ChromaDB\n",
        "import chromadb\n",
        "import pprint   # To tidy up print output\n"
      ]
    },
    {
      "cell_type": "markdown",
      "metadata": {},
      "source": [
        "Use Text"
      ]
    },
    {
      "cell_type": "code",
      "execution_count": 3,
      "metadata": {},
      "outputs": [],
      "source": [
        "# text information to ingest\n",
        "texts =  [\n",
        "    \"There is ample evidence to show that the Earth is round.\",\n",
        "    \"First, satellite images orbiting the Earth clearly depict our planet's round shape.\",\n",
        "    \"Additionally, during a lunar eclipse, the Earth's shadow cast on the Moon is always curved, which can only happen if the Earth is round.\",\n",
        "    \"Navigation of ships also provides evidence, as ships moving away from the shore gradually disappear from view bottom first, indicating the Earth's curved surface.\",\n",
        "    \"Observing stars from different parts of the world shows that constellations change positions due to the Earth's curvature.\",\n",
        "    \"Eratosthenes' ancient experiment measuring the shadow lengths at two different locations in Egypt also provided strong evidence of the Earth's curvature.\",\n",
        "    \"If the Earth were flat, the shadow lengths would be the same in both places.\",\n",
        "    \"Airplane flights support this fact, as long-distance flight paths often curve rather than follow a straight line to take advantage of the Earth's curvature.\",\n",
        "    \"The horizon phenomenon also shows that we cannot see very distant objects because the Earth curves.\",\n",
        "    \"GPS satellites that help us navigate can only function optimally if the Earth is round.\",\n",
        "    \"Gravity experiments show that gravity pulls towards the center of mass, causing the Earth to be round.\",\n",
        "    \"Photos from the Apollo missions that landed on the Moon also show the Earth's round shape from a distance.\",\n",
        "    \"Weather observations from satellites show cloud movement and storm patterns consistent with a round Earth.\",\n",
        "    \"The light we see at dawn and dusk also indicates the Earth's curvature.\",\n",
        "    \"The height of radio towers and antennas is determined by considering the Earth's curvature to optimize signal range.\",\n",
        "    \"Experiments using high-flying drones show a curved horizon.\",\n",
        "    \"International space missions, like the ISS, also show the Earth as round from low orbit.\",\n",
        "    \"The phenomenon of tides is also related to the gravity of a round Earth.\",\n",
        "    \"Satellite communication systems orbiting the Earth require coordination that considers the planet's curvature.\",\n",
        "    \"Geodesy research, the science of measuring and mapping the Earth, also shows that the Earth is a geoid, or round with slight deviations at the poles.\",\n",
        "    \"Moreover, the pattern of day and night distribution around the world is only possible if the Earth is round.\",\n",
        "    \"All this evidence consistently supports the fact that our Earth is round.\"\n",
        "]"
      ]
    },
    {
      "cell_type": "markdown",
      "metadata": {},
      "source": [
        "Text Splitter"
      ]
    },
    {
      "cell_type": "code",
      "execution_count": 4,
      "metadata": {},
      "outputs": [],
      "source": [
        "# Combine all elements in the list into a single string with newline as the separator\n",
        "combined_text = \"\\n\".join(texts)\n",
        "\n",
        "# Perform \"RecursiveCharacterTextSplitter\" so that the data can have an object \"page_content\"\n",
        "# This code splits the text into characters separated by \"\\n\", with each character in a separate chunk.\n",
        "text_splitter = RecursiveCharacterTextSplitter(separators=[\"\\n\"], chunk_size=1, chunk_overlap=0)\n",
        "texts = text_splitter.create_documents([combined_text])"
      ]
    },
    {
      "cell_type": "markdown",
      "metadata": {},
      "source": [
        "Setup Ollama Agent"
      ]
    },
    {
      "cell_type": "code",
      "execution_count": 5,
      "metadata": {},
      "outputs": [],
      "source": [
        "# using local ollama server\n",
        "from langchain_ollama import OllamaEmbeddings\n",
        "\n",
        "embeddings = OllamaEmbeddings(\n",
        "    model=\"qwen2.5-coder:1.5b\",\n",
        "    base_url=\"localhost\"\n",
        ")"
      ]
    },
    {
      "cell_type": "markdown",
      "metadata": {},
      "source": [
        "Create Vector Store"
      ]
    },
    {
      "cell_type": "code",
      "execution_count": 6,
      "metadata": {},
      "outputs": [
        {
          "data": {
            "text/plain": [
              "'LangChain is the framework for building context-aware reasoning applications'"
            ]
          },
          "execution_count": 6,
          "metadata": {},
          "output_type": "execute_result"
        }
      ],
      "source": [
        "# Create a vector store with a sample text\n",
        "from langchain_core.vectorstores import InMemoryVectorStore\n",
        "\n",
        "text = \"LangChain is the framework for building context-aware reasoning applications\"\n",
        "\n",
        "vectorstore = InMemoryVectorStore.from_texts(\n",
        "    [text],\n",
        "    embedding=embeddings,\n",
        ")\n",
        "\n",
        "# Use the vectorstore as a retriever\n",
        "retriever = vectorstore.as_retriever()\n",
        "\n",
        "# Retrieve the most similar text\n",
        "retrieved_documents = retriever.invoke(\"What is LangChain?\")\n",
        "\n",
        "# show the retrieved document's content\n",
        "retrieved_documents[0].page_content"
      ]
    },
    {
      "cell_type": "markdown",
      "metadata": {},
      "source": [
        "Embed Text to Local Chroma DB"
      ]
    },
    {
      "cell_type": "code",
      "execution_count": 7,
      "metadata": {},
      "outputs": [],
      "source": [
        "# using local chroma db\n",
        "persist_directory = \"chroma_db\"\n",
        "\n",
        "# save to text local chroma db\n",
        "db = Chroma.from_documents(\n",
        "    documents=texts, embedding=embeddings, persist_directory=persist_directory\n",
        ")\n",
        "\n",
        "# load data from local chroma db\n",
        "db = Chroma(persist_directory = persist_directory, embedding_function=embeddings)"
      ]
    },
    {
      "cell_type": "markdown",
      "metadata": {},
      "source": [
        "Query the LLM"
      ]
    },
    {
      "cell_type": "code",
      "execution_count": 8,
      "metadata": {},
      "outputs": [
        {
          "name": "stdout",
          "output_type": "stream",
          "text": [
            "[Document(metadata={}, page_content='\\nGravity experiments show that gravity pulls towards the center of mass, causing the Earth to be round.'), Document(metadata={}, page_content='\\nMoreover, the pattern of day and night distribution around the world is only possible if the Earth is round.'), Document(metadata={}, page_content='\\nGravity experiments show that gravity pulls towards the center of mass, causing the Earth to be round.'), Document(metadata={}, page_content='\\nMoreover, the pattern of day and night distribution around the world is only possible if the Earth is round.')]\n"
          ]
        }
      ],
      "source": [
        "# perform llm query\n",
        "query = \"Why earth like a ball?\"\n",
        "docs = db.similarity_search(query)\n",
        "print(docs)"
      ]
    }
  ],
  "metadata": {
    "kernelspec": {
      "display_name": ".venv",
      "language": "python",
      "name": "python3"
    },
    "language_info": {
      "codemirror_mode": {
        "name": "ipython",
        "version": 3
      },
      "file_extension": ".py",
      "mimetype": "text/x-python",
      "name": "python",
      "nbconvert_exporter": "python",
      "pygments_lexer": "ipython3",
      "version": "3.13.1"
    }
  },
  "nbformat": 4,
  "nbformat_minor": 2
}
